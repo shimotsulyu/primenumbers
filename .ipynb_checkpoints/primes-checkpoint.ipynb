{
 "cells": [
  {
   "cell_type": "code",
   "execution_count": 1,
   "id": "simplified-banks",
   "metadata": {},
   "outputs": [],
   "source": [
    "import time\n",
    "import pandas as pd\n",
    "import os\n",
    "\n",
    "def ler_arquivo(file):\n",
    "    out = []\n",
    "    arquivo = open(file, 'r')\n",
    "    for linha in arquivo:\n",
    "        if len(linha)>1:\n",
    "            for i in linha.split():\n",
    "                out.append(int(i))\n",
    "    arquivo.close()\n",
    "    return out\n",
    "def check_primes(p_true,p_test):\n",
    "    for i in range(min([len(p_true),len(p_test)])):\n",
    "        if p_test[i]!=p_true[i]:\n",
    "            return False, f'Position {i}, value error = {p_test[i]}'\n",
    "    return True, f'Max prime {p_test[i]}'"
   ]
  },
  {
   "cell_type": "code",
   "execution_count": 2,
   "id": "satisfactory-soviet",
   "metadata": {},
   "outputs": [],
   "source": [
    "# os.listdir()\n",
    "primes_true = ler_arquivo('datas/primes2to1299827.csv')\n",
    "# pd.DataFrame(primes_true).to_csv('primes_true.csv',header=None,index=None)"
   ]
  },
  {
   "cell_type": "code",
   "execution_count": 449,
   "id": "electoral-angel",
   "metadata": {},
   "outputs": [],
   "source": [
    "class Primes:\n",
    "    def is_prime(self,n):\n",
    "        if n<2 or (n>2 and n%2==0) or (n>5 and n%5==0): return False\n",
    "        if n==2: return True\n",
    "        for i in range(3,int(n**(1/2))+1,2):\n",
    "            if n%i==0: return False\n",
    "        return True\n",
    "    def next_prime(self,n):\n",
    "        n+=1\n",
    "        while True:\n",
    "            if (n>2 and int(str(n)[-1])%2==0) or (n>5 and int(str(n)[-1])%5==0):\n",
    "                pass\n",
    "            else:\n",
    "                if self.is_prime(n):\n",
    "                    return n\n",
    "            n+=1\n",
    "    def prime_list(self,n_initial,n_final=None):\n",
    "        if n_final is None:\n",
    "            n_final = n_initial\n",
    "            n_initial = 2\n",
    "        primes = []\n",
    "        for i in range(n_initial,n_final+1):\n",
    "            if self.is_prime(i):\n",
    "                primes.append(i)\n",
    "        return primes\n",
    "    def prime_gen(self,p=0,p_max=1000000,step=100000):\n",
    "        for i in range(p,p_max,step):\n",
    "            primes = self.prime_list(i,i+step)\n",
    "            data = pd.DataFrame(primes,columns=['primes'])\n",
    "            data.to_csv(f'prime_datas/primes_{i}_to_{i+step}.csv')\n"
   ]
  },
  {
   "cell_type": "code",
   "execution_count": 453,
   "id": "contained-company",
   "metadata": {},
   "outputs": [
    {
     "name": "stdout",
     "output_type": "stream",
     "text": [
      "22.794005870819092 seconds\n"
     ]
    }
   ],
   "source": [
    "P,P_add = 0,5000000\n",
    "ini = time.time()\n",
    "P1 = Primes().prime_list(P,P+P_add)\n",
    "print(time.time()-ini,'seconds')"
   ]
  },
  {
   "cell_type": "code",
   "execution_count": 455,
   "id": "affecting-blogger",
   "metadata": {},
   "outputs": [
    {
     "name": "stdout",
     "output_type": "stream",
     "text": [
      "23.28663921356201 seconds\n"
     ]
    }
   ],
   "source": [
    "ini = time.time()\n",
    "P2 = Primes().prime_gen(P,P+P_add,1000000)\n",
    "print(time.time()-ini,'seconds')"
   ]
  },
  {
   "cell_type": "code",
   "execution_count": 424,
   "id": "familiar-suicide",
   "metadata": {},
   "outputs": [
    {
     "data": {
      "text/plain": [
       "(True, 'Max prime 999983')"
      ]
     },
     "execution_count": 424,
     "metadata": {},
     "output_type": "execute_result"
    }
   ],
   "source": [
    "check_primes(P1,P2)"
   ]
  },
  {
   "cell_type": "code",
   "execution_count": 456,
   "id": "august-advocate",
   "metadata": {},
   "outputs": [
    {
     "data": {
      "text/plain": [
       "True"
      ]
     },
     "execution_count": 456,
     "metadata": {},
     "output_type": "execute_result"
    }
   ],
   "source": [
    "#conferir se um número é primo\n",
    "Primes().is_prime(39339889)"
   ]
  },
  {
   "cell_type": "code",
   "execution_count": 457,
   "id": "substantial-advertiser",
   "metadata": {},
   "outputs": [
    {
     "data": {
      "text/plain": [
       "39339929"
      ]
     },
     "execution_count": 457,
     "metadata": {},
     "output_type": "execute_result"
    }
   ],
   "source": [
    "#Encontrar o próximo primo\n",
    "Primes().next_prime(39339889)"
   ]
  }
 ],
 "metadata": {
  "kernelspec": {
   "display_name": "Python 3.6",
   "language": "python",
   "name": "python3.6"
  },
  "language_info": {
   "codemirror_mode": {
    "name": "ipython",
    "version": 3
   },
   "file_extension": ".py",
   "mimetype": "text/x-python",
   "name": "python",
   "nbconvert_exporter": "python",
   "pygments_lexer": "ipython3",
   "version": "3.6.9"
  }
 },
 "nbformat": 4,
 "nbformat_minor": 5
}
